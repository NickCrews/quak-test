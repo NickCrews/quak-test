{
 "cells": [
  {
   "cell_type": "code",
   "execution_count": null,
   "id": "8dbcfa5f",
   "metadata": {},
   "outputs": [],
   "source": [
    "import quak\n",
    "import pandas as pd\n",
    "\n",
    "quak.Widget(pd.DataFrame({\"a\": [1, 2, 3], \"b\": [\"a\", \"b\", \"c\"]}))"
   ]
  }
 ],
 "metadata": {
  "language_info": {
   "name": "python"
  }
 },
 "nbformat": 4,
 "nbformat_minor": 5
}
